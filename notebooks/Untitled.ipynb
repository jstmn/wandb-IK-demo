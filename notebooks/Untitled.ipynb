{
 "cells": [
  {
   "cell_type": "markdown",
   "id": "b6e5fb80",
   "metadata": {},
   "source": [
    "# IK Solution Plotting"
   ]
  },
  {
   "cell_type": "code",
   "execution_count": null,
   "id": "47ca0e94",
   "metadata": {},
   "outputs": [],
   "source": [
    "import os\n",
    "os.chdir(\"../\")"
   ]
  },
  {
   "cell_type": "code",
   "execution_count": null,
   "id": "e7dc96fa",
   "metadata": {},
   "outputs": [],
   "source": [
    "import argparse\n",
    "\n",
    "from src.kinematics import calculate_ave_l2_errror, forward_kinematics, inverse_kinematics, run_tests\n",
    "from src.model import glow_cinn_model\n",
    "import thirdparty.FrEIA.framework as Ff\n",
    "\n",
    "import matplotlib.pyplot as plt\n",
    "import numpy as np"
   ]
  },
  {
   "cell_type": "code",
   "execution_count": null,
   "id": "a4233990",
   "metadata": {},
   "outputs": [],
   "source": [
    "NDOFS = 4\n",
    "PLOT_TARGET_POSE = [3, 0]\n",
    "dim_z = 5\n",
    "hparams = {\n",
    "        \"nb_nodes\": 1,\n",
    "        \"dim_latent_space\": dim_z,\n",
    "        \"coeff_fn_config\": 2,\n",
    "        \"coeff_fn_internal_size\": 128}\n",
    "\n",
    "model = glow_cinn_model(hparams, NDOFS)"
   ]
  },
  {
   "cell_type": "code",
   "execution_count": null,
   "id": "fbbab016",
   "metadata": {},
   "outputs": [],
   "source": [
    "def draw_robot_on(ax, x, color, alpha=0.35):\n",
    "    x0=x[0]\n",
    "    x1=x[1]\n",
    "    x2=x[2]\n",
    "    x3=x[3]\n",
    "    p0 = np.array([0, 0])\n",
    "    p1 = np.array([np.cos(x0), np.sin(x0)])\n",
    "    p2 = p1 + np.array([np.cos(x0 + x1), np.sin(x0 + x1)])\n",
    "    p3 = p2 + np.array([np.cos(x0 + x1 + x2), np.sin(x0 + x1 + x2)])\n",
    "    p4 = p3 + np.array([np.cos(x0 + x1 + x2 + x3), np.sin(x0 + x1 + x2 + x3)])\n",
    "    merged = np.vstack([p0, p1, p2, p3, p4])\n",
    "    ax.plot(merged[:, 0], merged[:, 1], color=color, alpha=alpha)\n",
    "    ax.scatter(merged[:-1, 0], merged[:-1, 1], color=color, alpha=alpha, s=5)\n",
    "    \n",
    "def plot_solutions(model: Ff.ReversibleGraphNet, ndofs: int, dim_z: int) -> str:\n",
    "    \n",
    "    fig, ax = plt.subplots(1, 1, figsize=(6,6))\n",
    "    ax.set_xlim([-4.5, 4.5])\n",
    "    ax.set_ylim([-4.5, 4.5])\n",
    "    ax.set_xlabel(f\"X\")\n",
    "    ax.set_ylabel(f\"Y\")\n",
    "    ax.grid()\n",
    "    ax.set_axisbelow(True)\n",
    "    ax.set_aspect(\"equal\")\n",
    "    ax.scatter([PLOT_TARGET_POSE[0]], [PLOT_TARGET_POSE[1]], marker=\"o\", color=\"g\", s=50, alpha=1)\n",
    "    \n",
    "    for i in range(50):\n",
    "        x = 0.1*np.random.randn(4)\n",
    "        draw_robot_on(ax, x, \"k\")\n",
    "    \n",
    "    return \"\"\n",
    "\n",
    "\n",
    "plot_solutions(model, NDOFS, dim_z)"
   ]
  }
 ],
 "metadata": {
  "kernelspec": {
   "display_name": "Python 3 (ipykernel)",
   "language": "python",
   "name": "python3"
  },
  "language_info": {
   "codemirror_mode": {
    "name": "ipython",
    "version": 3
   },
   "file_extension": ".py",
   "mimetype": "text/x-python",
   "name": "python",
   "nbconvert_exporter": "python",
   "pygments_lexer": "ipython3",
   "version": "3.8.14"
  }
 },
 "nbformat": 4,
 "nbformat_minor": 5
}
